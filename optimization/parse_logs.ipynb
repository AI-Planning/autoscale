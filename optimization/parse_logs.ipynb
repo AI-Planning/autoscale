{
 "cells": [
  {
   "cell_type": "code",
   "execution_count": 36,
   "metadata": {},
   "outputs": [],
   "source": [
    "def parse_runtimes (logfile, result):\n",
    "    domain_name = logfile.name.split(\"_\")[-1]\n",
    "    with logfile.open() as f: \n",
    "        runtimes = []\n",
    "        for l in f.readlines():\n",
    "            if \"Selected: sequence\" in l:\n",
    "                num_instances = int(l.split(\"instances\")[0].split(\",\")[-1])\n",
    "                runtimes_sequence = [float(x.replace(\"[\",\"\").replace(\"]\",\"\")) for x in l.split(\":\")[-1].split(\",\")]\n",
    "                runtimes += [x if x <= 1800 else None for x in runtimes_sequence[:num_instances]]\n",
    "                \n",
    "        for i, r in enumerate(runtimes):\n",
    "            result [\"{}:p{:02d}\".format(domain_name, i+1)] = r\n"
   ]
  },
  {
   "cell_type": "code",
   "execution_count": 44,
   "metadata": {},
   "outputs": [],
   "source": [
    "from pathlib import Path\n",
    "from collections import defaultdict\n",
    "import json\n",
    "\n",
    "p = Path('../logfiles/2020-09-03')\n",
    "results = defaultdict(dict)\n",
    "for logfile in p.iterdir():\n",
    "    bset = logfile.name.split(\"_\")[1]\n",
    "    parse_runtimes(logfile, results[bset])\n",
    "    \n",
    "for bset in results:\n",
    "    with open (f\"./results/2020-09-03-{bset}-predicted-min-runtimes.json\", \"w\") as outfile:\n",
    "        json.dump(results[bset], outfile)\n",
    "        \n"
   ]
  },
  {
   "cell_type": "markdown",
   "metadata": {},
   "source": []
  }
 ],
 "metadata": {
  "kernelspec": {
   "display_name": "Python 3",
   "language": "python",
   "name": "python3"
  },
  "language_info": {
   "codemirror_mode": {
    "name": "ipython",
    "version": 3
   },
   "file_extension": ".py",
   "mimetype": "text/x-python",
   "name": "python",
   "nbconvert_exporter": "python",
   "pygments_lexer": "ipython3",
   "version": "3.8.3"
  }
 },
 "nbformat": 4,
 "nbformat_minor": 4
}
