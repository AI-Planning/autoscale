{
 "cells": [
  {
   "cell_type": "code",
   "execution_count": 36,
   "metadata": {},
   "outputs": [],
   "source": [
    "def parse_runtimes (logfile, result):\n",
    "    domain_name = logfile.name.split(\"_\")[-1]\n",
    "    with logfile.open() as f: \n",
    "        runtimes = []\n",
    "        for l in f.readlines():\n",
    "            if \"Selected: sequence\" in l:\n",
    "                num_instances = int(l.split(\"instances\")[0].split(\",\")[-1])\n",
    "                runtimes_sequence = [float(x.replace(\"[\",\"\").replace(\"]\",\"\")) for x in l.split(\":\")[-1].split(\",\")]\n",
    "                runtimes += [x if x <= 1800 else None for x in runtimes_sequence[:num_instances]]\n",
    "                \n",
    "        for i, r in enumerate(runtimes):\n",
    "            result [\"{}:p{:02d}\".format(domain_name, i+1)] = r\n"
   ]
  },
  {
   "cell_type": "code",
   "execution_count": 41,
   "metadata": {},
   "outputs": [
    {
     "ename": "IndentationError",
     "evalue": "expected an indented block (<ipython-input-41-a91b29601ae9>, line 13)",
     "output_type": "error",
     "traceback": [
      "\u001b[0;36m  File \u001b[0;32m\"<ipython-input-41-a91b29601ae9>\"\u001b[0;36m, line \u001b[0;32m13\u001b[0m\n\u001b[0;31m    json.dump(results[best], outfile)\u001b[0m\n\u001b[0m    ^\u001b[0m\n\u001b[0;31mIndentationError\u001b[0m\u001b[0;31m:\u001b[0m expected an indented block\n"
     ]
    }
   ],
   "source": [
    "from pathlib import Path\n",
    "from collections import defaultdict\n",
    "import json\n",
    "\n",
    "p = Path('../logfiles/2020-09-03')\n",
    "results = defaultdict(dict)\n",
    "for logfile in p.iterdir():\n",
    "    bset = logfile.name.split(\"_\")[1]\n",
    "    parse_runtimes(logfile, results[bset])\n",
    "    \n",
    "for bset in results:\n",
    "    with open (f\"./results/2020-09-03-{bset}-predicted-min-runtimnes.json\", \"w\") as outfile:\n",
    "        json.dump(results[best], outfile)\n",
    "        \n"
   ]
  },
  {
   "cell_type": "markdown",
   "metadata": {},
   "source": [
    "# from pathlib import Path\n",
    "p = Path('../logfiles/2020-09-03')\n",
    "result = {}\n",
    "for logfile in p.iterdir():\n",
    "    domain_name = logfile.name.split(\"_\")[-1]\n",
    "    \n",
    "    if logfile.name.split(\"_\")[1] != \"sat14\":\n",
    "        continue\n",
    "    if domain_name != \"tpp\": \n",
    "        continue\n",
    "        \n",
    "    with logfile.open() as f: \n",
    "        runtimes = []\n",
    "        for l in f.readlines():\n",
    "            if \"Selected: sequence\" in l:\n",
    "                num_instances = int(l.split(\"instances\")[0].split(\",\")[-1])\n",
    "                runtimes_sequence = [float(x.replace(\"[\",\"\").replace(\"]\",\"\")) for x in l.split(\":\")[-1].split(\",\")]\n",
    "                runtimes += [x if x <= 1800 else None for x in runtimes_sequence[:num_instances]]\n",
    "                \n",
    "        for i, r in enumerate(runtimes):\n",
    "            result [\"{}:p{:02d}\".format(domain_name, i+1)] = r\n",
    "print(result)\n"
   ]
  }
 ],
 "metadata": {
  "kernelspec": {
   "display_name": "Python 3",
   "language": "python",
   "name": "python3"
  },
  "language_info": {
   "codemirror_mode": {
    "name": "ipython",
    "version": 3
   },
   "file_extension": ".py",
   "mimetype": "text/x-python",
   "name": "python",
   "nbconvert_exporter": "python",
   "pygments_lexer": "ipython3",
   "version": "3.8.3"
  }
 },
 "nbformat": 4,
 "nbformat_minor": 4
}
