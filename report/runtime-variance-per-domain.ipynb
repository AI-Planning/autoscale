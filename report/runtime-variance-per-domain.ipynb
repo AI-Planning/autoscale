{
 "cells": [
  {
   "cell_type": "code",
   "execution_count": 71,
   "metadata": {},
   "outputs": [
    {
     "name": "stdout",
     "output_type": "stream",
     "text": [
      "[7.05, 16.42, 5.26, 13.17, 6.19, 8.25, 9.24, 4.03, 52.31, 11.82, 14.94, 4.24, 17.15, 17.42, 27.43]\n"
     ]
    },
    {
     "data": {
      "image/png": "[encoded data removed]",
      "text/plain": [
       "<Figure size 432x288 with 1 Axes>"
      ]
     },
     "metadata": {
      "needs_background": "light"
     },
     "output_type": "display_data"
    },
    {
     "name": "stdout",
     "output_type": "stream",
     "text": [
      "[9.42, 42.26, 'unsolved', 53.65, 124.22, 'unsolved', 41.44, 22.81, 12.9, 17.69, 8.33, 13.45, 99.36, 9.26, 32.98]\n"
     ]
    },
    {
     "data": {
      "image/png": "[encoded data removed]",
      "text/plain": [
       "<Figure size 432x288 with 1 Axes>"
      ]
     },
     "metadata": {
      "needs_background": "light"
     },
     "output_type": "display_data"
    },
    {
     "name": "stdout",
     "output_type": "stream",
     "text": [
      "['unsolved', 'unsolved', 'unsolved', 95.42, 'unsolved', 'unsolved', 91.49, 28.08, 'unsolved', 11.31, 29.78, 'unsolved', 35.37, 'unsolved', 'unsolved']\n"
     ]
    },
    {
     "data": {
      "image/png": "[encoded data removed]",
      "text/plain": [
       "<Figure size 432x288 with 1 Axes>"
      ]
     },
     "metadata": {
      "needs_background": "light"
     },
     "output_type": "display_data"
    },
    {
     "name": "stdout",
     "output_type": "stream",
     "text": [
      "[34.73, 52.07, 57.53, 42.73, 6.52, 27.63, 114.45, 15.63, 19.21, 10.96, 12.23, 5.41, 46.73, 12.43, 20.22]\n"
     ]
    },
    {
     "data": {
      "image/png": "[encoded data removed]",
      "text/plain": [
       "<Figure size 432x288 with 1 Axes>"
      ]
     },
     "metadata": {
      "needs_background": "light"
     },
     "output_type": "display_data"
    },
    {
     "name": "stdout",
     "output_type": "stream",
     "text": [
      "[7.39, 8.17, 3.98, 4.58, 15.97, 7.47, 8.61, 4.86, 6.36, 5.19, 4.91, 4.41, 41.25, 27.8, 3.78]\n"
     ]
    },
    {
     "data": {
      "image/png": "[encoded data removed]",
      "text/plain": [
       "<Figure size 432x288 with 1 Axes>"
      ]
     },
     "metadata": {
      "needs_background": "light"
     },
     "output_type": "display_data"
    }
   ],
   "source": [
    "import json \n",
    "from collections import defaultdict\n",
    "import statistics \n",
    "import matplotlib.pyplot as plt\n",
    "\n",
    "domain = \"woodworking\"\n",
    "\n",
    "database_files = [f\"../optimization/results/{x}\" for x in [\"2020-12-04-A-smac-opt-2014-10h.json\", \"2020-12-08-A-smac-opt-2014-20h.json\", \"2020-12-10-A-smac-opt-2014-20h.json\"]]\n",
    "runtimes  = defaultdict(list)\n",
    "seeds = defaultdict(list)\n",
    "\n",
    "for db in database_files:\n",
    "    with open(db) as f:\n",
    "        content = json.load(f)\n",
    "        if len(content[domain][\"sart_runtimes\"]) == 0:\n",
    "            continue\n",
    "        params =  content[domain][\"sart_runtimes\"][0][0]\n",
    "        parameter_list = [x for x in sorted(params.keys()) if x != \"seed\"]\n",
    "\n",
    "        for (params, time) in content[domain][\"sart_runtimes\"]:\n",
    "            values = tuple([params[atr] for atr in parameter_list])\n",
    "\n",
    "            if params['seed'] not in seeds[values]: \n",
    "                runtimes[values] += time\n",
    "                seeds [values] += [params['seed']]\n",
    "    \n",
    "def mean(values):\n",
    "    filtered = [x for x in values if x != \"unsolved\"]\n",
    "    if len(filtered):\n",
    "        return statistics.mean(filtered) \n",
    "    return 200\n",
    "\n",
    "\n",
    "candidates = [k for k, x in runtimes.items() if mean(x) >= 10 and mean(x) <= 60 and len(x) >= 10\n",
    "             ]\n",
    "#max_samples = max([len(runtimes[k]) for k in candidates])\n",
    "#candidates = [k for k in candidates if len(runtimes[k]) >= max_samples -5 ]\n",
    "#min_mean = min([mean(runtimes[k]) for k in candidates])\n",
    "#candidates = [k for k in candidates if mean(runtimes[k]) == min_mean]\n",
    "\n",
    "for c in candidates[:5]: \n",
    "    print(runtimes[c])\n",
    "    plt.hist(runtimes[c], 5)\n",
    "    \n",
    "    plt.show()\n"
   ]
  }
 ],
 "metadata": {
  "kernelspec": {
   "display_name": "Python 3",
   "language": "python",
   "name": "python3"
  },
  "language_info": {
   "codemirror_mode": {
    "name": "ipython",
    "version": 3
   },
   "file_extension": ".py",
   "mimetype": "text/x-python",
   "name": "python",
   "nbconvert_exporter": "python",
   "pygments_lexer": "ipython3",
   "version": "3.8.3"
  }
 },
 "nbformat": 4,
 "nbformat_minor": 4
}
