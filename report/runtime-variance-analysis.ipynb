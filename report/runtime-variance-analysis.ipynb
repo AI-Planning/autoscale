{
 "cells": [
  {
   "cell_type": "code",
   "execution_count": 84,
   "metadata": {},
   "outputs": [],
   "source": [
    "import pandas as pd"
   ]
  },
  {
   "cell_type": "code",
   "execution_count": 85,
   "metadata": {},
   "outputs": [
    {
     "output_type": "execute_result",
     "data": {
      "text/plain": [
       "                                   algorithm cost coverage  domain error  \\\n",
       "fd1906-bjolp-barman-p01-0.pddl  fd1906-bjolp   10        1  barman  none   \n",
       "fd1906-bjolp-barman-p01-1.pddl  fd1906-bjolp   10        1  barman  none   \n",
       "fd1906-bjolp-barman-p01-2.pddl  fd1906-bjolp   10        1  barman  none   \n",
       "fd1906-bjolp-barman-p01-3.pddl  fd1906-bjolp   10        1  barman  none   \n",
       "fd1906-bjolp-barman-p01-4.pddl  fd1906-bjolp   10        1  barman  none   \n",
       "\n",
       "                                                                id  \\\n",
       "fd1906-bjolp-barman-p01-0.pddl  [fd1906-bjolp, barman, p01-0.pddl]   \n",
       "fd1906-bjolp-barman-p01-1.pddl  [fd1906-bjolp, barman, p01-1.pddl]   \n",
       "fd1906-bjolp-barman-p01-2.pddl  [fd1906-bjolp, barman, p01-2.pddl]   \n",
       "fd1906-bjolp-barman-p01-3.pddl  [fd1906-bjolp, barman, p01-3.pddl]   \n",
       "fd1906-bjolp-barman-p01-4.pddl  [fd1906-bjolp, barman, p01-4.pddl]   \n",
       "\n",
       "                                                node planner_exit_code  \\\n",
       "fd1906-bjolp-barman-p01-0.pddl  ase13.cluster.bc2.ch                 0   \n",
       "fd1906-bjolp-barman-p01-1.pddl  ase20.cluster.bc2.ch                 0   \n",
       "fd1906-bjolp-barman-p01-2.pddl  ase17.cluster.bc2.ch                 0   \n",
       "fd1906-bjolp-barman-p01-3.pddl  ase22.cluster.bc2.ch                 0   \n",
       "fd1906-bjolp-barman-p01-4.pddl  ase06.cluster.bc2.ch                 0   \n",
       "\n",
       "                               planner_wall_clock_time     problem raw_memory  \\\n",
       "fd1906-bjolp-barman-p01-0.pddl                    0.55  p01-0.pddl      22432   \n",
       "fd1906-bjolp-barman-p01-1.pddl                    0.63  p01-1.pddl      22432   \n",
       "fd1906-bjolp-barman-p01-2.pddl                    0.57  p01-2.pddl      22432   \n",
       "fd1906-bjolp-barman-p01-3.pddl                    0.57  p01-3.pddl      22432   \n",
       "fd1906-bjolp-barman-p01-4.pddl                    0.58  p01-4.pddl      22432   \n",
       "\n",
       "                                               run_dir runtime search_time  \\\n",
       "fd1906-bjolp-barman-p01-0.pddl  runs-23401-23500/23401    0.54  0.00235923   \n",
       "fd1906-bjolp-barman-p01-1.pddl  runs-23401-23500/23402     0.6  0.00235295   \n",
       "fd1906-bjolp-barman-p01-2.pddl  runs-23401-23500/23403    0.55  0.00236026   \n",
       "fd1906-bjolp-barman-p01-3.pddl  runs-23401-23500/23404    0.55  0.00233414   \n",
       "fd1906-bjolp-barman-p01-4.pddl  runs-23401-23500/23405    0.56  0.00235297   \n",
       "\n",
       "                                total_time     unexplained_errors unsolvable  \n",
       "fd1906-bjolp-barman-p01-0.pddl  0.00956006  [output-to-slurm.err]          0  \n",
       "fd1906-bjolp-barman-p01-1.pddl  0.00964629  [output-to-slurm.err]          0  \n",
       "fd1906-bjolp-barman-p01-2.pddl  0.00968862  [output-to-slurm.err]          0  \n",
       "fd1906-bjolp-barman-p01-3.pddl  0.00969131  [output-to-slurm.err]          0  \n",
       "fd1906-bjolp-barman-p01-4.pddl  0.00982671  [output-to-slurm.err]          0  "
      ],
      "text/html": "<div>\n<style scoped>\n    .dataframe tbody tr th:only-of-type {\n        vertical-align: middle;\n    }\n\n    .dataframe tbody tr th {\n        vertical-align: top;\n    }\n\n    .dataframe thead th {\n        text-align: right;\n    }\n</style>\n<table border=\"1\" class=\"dataframe\">\n  <thead>\n    <tr style=\"text-align: right;\">\n      <th></th>\n      <th>algorithm</th>\n      <th>cost</th>\n      <th>coverage</th>\n      <th>domain</th>\n      <th>error</th>\n      <th>id</th>\n      <th>node</th>\n      <th>planner_exit_code</th>\n      <th>planner_wall_clock_time</th>\n      <th>problem</th>\n      <th>raw_memory</th>\n      <th>run_dir</th>\n      <th>runtime</th>\n      <th>search_time</th>\n      <th>total_time</th>\n      <th>unexplained_errors</th>\n      <th>unsolvable</th>\n    </tr>\n  </thead>\n  <tbody>\n    <tr>\n      <th>fd1906-bjolp-barman-p01-0.pddl</th>\n      <td>fd1906-bjolp</td>\n      <td>10</td>\n      <td>1</td>\n      <td>barman</td>\n      <td>none</td>\n      <td>[fd1906-bjolp, barman, p01-0.pddl]</td>\n      <td>ase13.cluster.bc2.ch</td>\n      <td>0</td>\n      <td>0.55</td>\n      <td>p01-0.pddl</td>\n      <td>22432</td>\n      <td>runs-23401-23500/23401</td>\n      <td>0.54</td>\n      <td>0.00235923</td>\n      <td>0.00956006</td>\n      <td>[output-to-slurm.err]</td>\n      <td>0</td>\n    </tr>\n    <tr>\n      <th>fd1906-bjolp-barman-p01-1.pddl</th>\n      <td>fd1906-bjolp</td>\n      <td>10</td>\n      <td>1</td>\n      <td>barman</td>\n      <td>none</td>\n      <td>[fd1906-bjolp, barman, p01-1.pddl]</td>\n      <td>ase20.cluster.bc2.ch</td>\n      <td>0</td>\n      <td>0.63</td>\n      <td>p01-1.pddl</td>\n      <td>22432</td>\n      <td>runs-23401-23500/23402</td>\n      <td>0.6</td>\n      <td>0.00235295</td>\n      <td>0.00964629</td>\n      <td>[output-to-slurm.err]</td>\n      <td>0</td>\n    </tr>\n    <tr>\n      <th>fd1906-bjolp-barman-p01-2.pddl</th>\n      <td>fd1906-bjolp</td>\n      <td>10</td>\n      <td>1</td>\n      <td>barman</td>\n      <td>none</td>\n      <td>[fd1906-bjolp, barman, p01-2.pddl]</td>\n      <td>ase17.cluster.bc2.ch</td>\n      <td>0</td>\n      <td>0.57</td>\n      <td>p01-2.pddl</td>\n      <td>22432</td>\n      <td>runs-23401-23500/23403</td>\n      <td>0.55</td>\n      <td>0.00236026</td>\n      <td>0.00968862</td>\n      <td>[output-to-slurm.err]</td>\n      <td>0</td>\n    </tr>\n    <tr>\n      <th>fd1906-bjolp-barman-p01-3.pddl</th>\n      <td>fd1906-bjolp</td>\n      <td>10</td>\n      <td>1</td>\n      <td>barman</td>\n      <td>none</td>\n      <td>[fd1906-bjolp, barman, p01-3.pddl]</td>\n      <td>ase22.cluster.bc2.ch</td>\n      <td>0</td>\n      <td>0.57</td>\n      <td>p01-3.pddl</td>\n      <td>22432</td>\n      <td>runs-23401-23500/23404</td>\n      <td>0.55</td>\n      <td>0.00233414</td>\n      <td>0.00969131</td>\n      <td>[output-to-slurm.err]</td>\n      <td>0</td>\n    </tr>\n    <tr>\n      <th>fd1906-bjolp-barman-p01-4.pddl</th>\n      <td>fd1906-bjolp</td>\n      <td>10</td>\n      <td>1</td>\n      <td>barman</td>\n      <td>none</td>\n      <td>[fd1906-bjolp, barman, p01-4.pddl]</td>\n      <td>ase06.cluster.bc2.ch</td>\n      <td>0</td>\n      <td>0.58</td>\n      <td>p01-4.pddl</td>\n      <td>22432</td>\n      <td>runs-23401-23500/23405</td>\n      <td>0.56</td>\n      <td>0.00235297</td>\n      <td>0.00982671</td>\n      <td>[output-to-slurm.err]</td>\n      <td>0</td>\n    </tr>\n  </tbody>\n</table>\n</div>"
     },
     "metadata": {},
     "execution_count": 85
    }
   ],
   "source": [
    "df = pd.read_json(\"../optimization/results/2020-11-25-A-runtime-variance-opt-properties.json\").transpose()\n",
    "df.head()"
   ]
  },
  {
   "cell_type": "code",
   "execution_count": 86,
   "metadata": {},
   "outputs": [
    {
     "output_type": "execute_result",
     "data": {
      "text/plain": [
       "                                                   algorithm      domain  \\\n",
       "fd1906-bjolp-barman-p01-0.pddl                  fd1906-bjolp      barman   \n",
       "fd1906-bjolp-barman-p01-1.pddl                  fd1906-bjolp      barman   \n",
       "fd1906-bjolp-barman-p01-2.pddl                  fd1906-bjolp      barman   \n",
       "fd1906-bjolp-barman-p01-3.pddl                  fd1906-bjolp      barman   \n",
       "fd1906-bjolp-barman-p01-4.pddl                  fd1906-bjolp      barman   \n",
       "...                                                      ...         ...   \n",
       "ipc2014-opt-symba1-zenotravel-p30-5.pddl  ipc2014-opt-symba1  zenotravel   \n",
       "ipc2014-opt-symba1-zenotravel-p30-6.pddl  ipc2014-opt-symba1  zenotravel   \n",
       "ipc2014-opt-symba1-zenotravel-p30-7.pddl  ipc2014-opt-symba1  zenotravel   \n",
       "ipc2014-opt-symba1-zenotravel-p30-8.pddl  ipc2014-opt-symba1  zenotravel   \n",
       "ipc2014-opt-symba1-zenotravel-p30-9.pddl  ipc2014-opt-symba1  zenotravel   \n",
       "\n",
       "                                             problem  runtime  \n",
       "fd1906-bjolp-barman-p01-0.pddl            p01-0.pddl     0.54  \n",
       "fd1906-bjolp-barman-p01-1.pddl            p01-1.pddl     0.60  \n",
       "fd1906-bjolp-barman-p01-2.pddl            p01-2.pddl     0.55  \n",
       "fd1906-bjolp-barman-p01-3.pddl            p01-3.pddl     0.55  \n",
       "fd1906-bjolp-barman-p01-4.pddl            p01-4.pddl     0.56  \n",
       "...                                              ...      ...  \n",
       "ipc2014-opt-symba1-zenotravel-p30-5.pddl  p30-5.pddl      NaN  \n",
       "ipc2014-opt-symba1-zenotravel-p30-6.pddl  p30-6.pddl      NaN  \n",
       "ipc2014-opt-symba1-zenotravel-p30-7.pddl  p30-7.pddl      NaN  \n",
       "ipc2014-opt-symba1-zenotravel-p30-8.pddl  p30-8.pddl      NaN  \n",
       "ipc2014-opt-symba1-zenotravel-p30-9.pddl  p30-9.pddl      NaN  \n",
       "\n",
       "[46800 rows x 4 columns]"
      ],
      "text/html": "<div>\n<style scoped>\n    .dataframe tbody tr th:only-of-type {\n        vertical-align: middle;\n    }\n\n    .dataframe tbody tr th {\n        vertical-align: top;\n    }\n\n    .dataframe thead th {\n        text-align: right;\n    }\n</style>\n<table border=\"1\" class=\"dataframe\">\n  <thead>\n    <tr style=\"text-align: right;\">\n      <th></th>\n      <th>algorithm</th>\n      <th>domain</th>\n      <th>problem</th>\n      <th>runtime</th>\n    </tr>\n  </thead>\n  <tbody>\n    <tr>\n      <th>fd1906-bjolp-barman-p01-0.pddl</th>\n      <td>fd1906-bjolp</td>\n      <td>barman</td>\n      <td>p01-0.pddl</td>\n      <td>0.54</td>\n    </tr>\n    <tr>\n      <th>fd1906-bjolp-barman-p01-1.pddl</th>\n      <td>fd1906-bjolp</td>\n      <td>barman</td>\n      <td>p01-1.pddl</td>\n      <td>0.60</td>\n    </tr>\n    <tr>\n      <th>fd1906-bjolp-barman-p01-2.pddl</th>\n      <td>fd1906-bjolp</td>\n      <td>barman</td>\n      <td>p01-2.pddl</td>\n      <td>0.55</td>\n    </tr>\n    <tr>\n      <th>fd1906-bjolp-barman-p01-3.pddl</th>\n      <td>fd1906-bjolp</td>\n      <td>barman</td>\n      <td>p01-3.pddl</td>\n      <td>0.55</td>\n    </tr>\n    <tr>\n      <th>fd1906-bjolp-barman-p01-4.pddl</th>\n      <td>fd1906-bjolp</td>\n      <td>barman</td>\n      <td>p01-4.pddl</td>\n      <td>0.56</td>\n    </tr>\n    <tr>\n      <th>...</th>\n      <td>...</td>\n      <td>...</td>\n      <td>...</td>\n      <td>...</td>\n    </tr>\n    <tr>\n      <th>ipc2014-opt-symba1-zenotravel-p30-5.pddl</th>\n      <td>ipc2014-opt-symba1</td>\n      <td>zenotravel</td>\n      <td>p30-5.pddl</td>\n      <td>NaN</td>\n    </tr>\n    <tr>\n      <th>ipc2014-opt-symba1-zenotravel-p30-6.pddl</th>\n      <td>ipc2014-opt-symba1</td>\n      <td>zenotravel</td>\n      <td>p30-6.pddl</td>\n      <td>NaN</td>\n    </tr>\n    <tr>\n      <th>ipc2014-opt-symba1-zenotravel-p30-7.pddl</th>\n      <td>ipc2014-opt-symba1</td>\n      <td>zenotravel</td>\n      <td>p30-7.pddl</td>\n      <td>NaN</td>\n    </tr>\n    <tr>\n      <th>ipc2014-opt-symba1-zenotravel-p30-8.pddl</th>\n      <td>ipc2014-opt-symba1</td>\n      <td>zenotravel</td>\n      <td>p30-8.pddl</td>\n      <td>NaN</td>\n    </tr>\n    <tr>\n      <th>ipc2014-opt-symba1-zenotravel-p30-9.pddl</th>\n      <td>ipc2014-opt-symba1</td>\n      <td>zenotravel</td>\n      <td>p30-9.pddl</td>\n      <td>NaN</td>\n    </tr>\n  </tbody>\n</table>\n<p>46800 rows × 4 columns</p>\n</div>"
     },
     "metadata": {},
     "execution_count": 86
    }
   ],
   "source": [
    "df2 = df[[\"algorithm\", \"domain\", \"problem\", \"runtime\"]]\n",
    "df2[\"runtime\"] = df2[\"runtime\"].astype(float)\n",
    "df2"
   ]
  },
  {
   "cell_type": "code",
   "execution_count": 87,
   "metadata": {},
   "outputs": [
    {
     "output_type": "execute_result",
     "data": {
      "text/plain": [
       "                                                   algorithm      domain  \\\n",
       "fd1906-bjolp-barman-p01-0.pddl                  fd1906-bjolp      barman   \n",
       "fd1906-bjolp-barman-p01-1.pddl                  fd1906-bjolp      barman   \n",
       "fd1906-bjolp-barman-p01-2.pddl                  fd1906-bjolp      barman   \n",
       "fd1906-bjolp-barman-p01-3.pddl                  fd1906-bjolp      barman   \n",
       "fd1906-bjolp-barman-p01-4.pddl                  fd1906-bjolp      barman   \n",
       "...                                                      ...         ...   \n",
       "ipc2014-opt-symba1-zenotravel-p20-1.pddl  ipc2014-opt-symba1  zenotravel   \n",
       "ipc2014-opt-symba1-zenotravel-p20-2.pddl  ipc2014-opt-symba1  zenotravel   \n",
       "ipc2014-opt-symba1-zenotravel-p20-6.pddl  ipc2014-opt-symba1  zenotravel   \n",
       "ipc2014-opt-symba1-zenotravel-p20-8.pddl  ipc2014-opt-symba1  zenotravel   \n",
       "ipc2014-opt-symba1-zenotravel-p21-5.pddl  ipc2014-opt-symba1  zenotravel   \n",
       "\n",
       "                                             problem  runtime problemgroup  \n",
       "fd1906-bjolp-barman-p01-0.pddl            p01-0.pddl     0.54          p01  \n",
       "fd1906-bjolp-barman-p01-1.pddl            p01-1.pddl     0.60          p01  \n",
       "fd1906-bjolp-barman-p01-2.pddl            p01-2.pddl     0.55          p01  \n",
       "fd1906-bjolp-barman-p01-3.pddl            p01-3.pddl     0.55          p01  \n",
       "fd1906-bjolp-barman-p01-4.pddl            p01-4.pddl     0.56          p01  \n",
       "...                                              ...      ...          ...  \n",
       "ipc2014-opt-symba1-zenotravel-p20-1.pddl  p20-1.pddl    52.09          p20  \n",
       "ipc2014-opt-symba1-zenotravel-p20-2.pddl  p20-2.pddl    21.65          p20  \n",
       "ipc2014-opt-symba1-zenotravel-p20-6.pddl  p20-6.pddl    67.96          p20  \n",
       "ipc2014-opt-symba1-zenotravel-p20-8.pddl  p20-8.pddl   580.27          p20  \n",
       "ipc2014-opt-symba1-zenotravel-p21-5.pddl  p21-5.pddl    45.64          p21  \n",
       "\n",
       "[16355 rows x 5 columns]"
      ],
      "text/html": "<div>\n<style scoped>\n    .dataframe tbody tr th:only-of-type {\n        vertical-align: middle;\n    }\n\n    .dataframe tbody tr th {\n        vertical-align: top;\n    }\n\n    .dataframe thead th {\n        text-align: right;\n    }\n</style>\n<table border=\"1\" class=\"dataframe\">\n  <thead>\n    <tr style=\"text-align: right;\">\n      <th></th>\n      <th>algorithm</th>\n      <th>domain</th>\n      <th>problem</th>\n      <th>runtime</th>\n      <th>problemgroup</th>\n    </tr>\n  </thead>\n  <tbody>\n    <tr>\n      <th>fd1906-bjolp-barman-p01-0.pddl</th>\n      <td>fd1906-bjolp</td>\n      <td>barman</td>\n      <td>p01-0.pddl</td>\n      <td>0.54</td>\n      <td>p01</td>\n    </tr>\n    <tr>\n      <th>fd1906-bjolp-barman-p01-1.pddl</th>\n      <td>fd1906-bjolp</td>\n      <td>barman</td>\n      <td>p01-1.pddl</td>\n      <td>0.60</td>\n      <td>p01</td>\n    </tr>\n    <tr>\n      <th>fd1906-bjolp-barman-p01-2.pddl</th>\n      <td>fd1906-bjolp</td>\n      <td>barman</td>\n      <td>p01-2.pddl</td>\n      <td>0.55</td>\n      <td>p01</td>\n    </tr>\n    <tr>\n      <th>fd1906-bjolp-barman-p01-3.pddl</th>\n      <td>fd1906-bjolp</td>\n      <td>barman</td>\n      <td>p01-3.pddl</td>\n      <td>0.55</td>\n      <td>p01</td>\n    </tr>\n    <tr>\n      <th>fd1906-bjolp-barman-p01-4.pddl</th>\n      <td>fd1906-bjolp</td>\n      <td>barman</td>\n      <td>p01-4.pddl</td>\n      <td>0.56</td>\n      <td>p01</td>\n    </tr>\n    <tr>\n      <th>...</th>\n      <td>...</td>\n      <td>...</td>\n      <td>...</td>\n      <td>...</td>\n      <td>...</td>\n    </tr>\n    <tr>\n      <th>ipc2014-opt-symba1-zenotravel-p20-1.pddl</th>\n      <td>ipc2014-opt-symba1</td>\n      <td>zenotravel</td>\n      <td>p20-1.pddl</td>\n      <td>52.09</td>\n      <td>p20</td>\n    </tr>\n    <tr>\n      <th>ipc2014-opt-symba1-zenotravel-p20-2.pddl</th>\n      <td>ipc2014-opt-symba1</td>\n      <td>zenotravel</td>\n      <td>p20-2.pddl</td>\n      <td>21.65</td>\n      <td>p20</td>\n    </tr>\n    <tr>\n      <th>ipc2014-opt-symba1-zenotravel-p20-6.pddl</th>\n      <td>ipc2014-opt-symba1</td>\n      <td>zenotravel</td>\n      <td>p20-6.pddl</td>\n      <td>67.96</td>\n      <td>p20</td>\n    </tr>\n    <tr>\n      <th>ipc2014-opt-symba1-zenotravel-p20-8.pddl</th>\n      <td>ipc2014-opt-symba1</td>\n      <td>zenotravel</td>\n      <td>p20-8.pddl</td>\n      <td>580.27</td>\n      <td>p20</td>\n    </tr>\n    <tr>\n      <th>ipc2014-opt-symba1-zenotravel-p21-5.pddl</th>\n      <td>ipc2014-opt-symba1</td>\n      <td>zenotravel</td>\n      <td>p21-5.pddl</td>\n      <td>45.64</td>\n      <td>p21</td>\n    </tr>\n  </tbody>\n</table>\n<p>16355 rows × 5 columns</p>\n</div>"
     },
     "metadata": {},
     "execution_count": 87
    }
   ],
   "source": [
    "pg = df2[\"problem\"].str.extract(r'(?P<problemgroup>p\\d\\d)-\\d\\.pddl', expand=False)\n",
    "df2[\"problemgroup\"] = pg\n",
    "df2 = df2.dropna()\n",
    "df2"
   ]
  },
  {
   "cell_type": "code",
   "execution_count": 88,
   "metadata": {},
   "outputs": [
    {
     "output_type": "execute_result",
     "data": {
      "text/plain": [
       "                                            count        mean         std\n",
       "algorithm          domain     problemgroup                               \n",
       "fd1906-bjolp       barman     p01              10    0.561000    0.036347\n",
       "                              p02              10    1.128000    0.222251\n",
       "                              p03              10   23.336000    0.572969\n",
       "                              p11              10    0.606000    0.112368\n",
       "                              p12              10    1.575000    0.034721\n",
       "...                                           ...         ...         ...\n",
       "ipc2014-opt-symba1 zenotravel p17              10    2.707000    1.180594\n",
       "                              p18              10   25.559000   25.537705\n",
       "                              p19               7  202.494286  154.242325\n",
       "                              p20               5  182.956000  231.476312\n",
       "                              p21               1   45.640000         NaN\n",
       "\n",
       "[2120 rows x 3 columns]"
      ],
      "text/html": "<div>\n<style scoped>\n    .dataframe tbody tr th:only-of-type {\n        vertical-align: middle;\n    }\n\n    .dataframe tbody tr th {\n        vertical-align: top;\n    }\n\n    .dataframe thead th {\n        text-align: right;\n    }\n</style>\n<table border=\"1\" class=\"dataframe\">\n  <thead>\n    <tr style=\"text-align: right;\">\n      <th></th>\n      <th></th>\n      <th></th>\n      <th>count</th>\n      <th>mean</th>\n      <th>std</th>\n    </tr>\n    <tr>\n      <th>algorithm</th>\n      <th>domain</th>\n      <th>problemgroup</th>\n      <th></th>\n      <th></th>\n      <th></th>\n    </tr>\n  </thead>\n  <tbody>\n    <tr>\n      <th rowspan=\"5\" valign=\"top\">fd1906-bjolp</th>\n      <th rowspan=\"5\" valign=\"top\">barman</th>\n      <th>p01</th>\n      <td>10</td>\n      <td>0.561000</td>\n      <td>0.036347</td>\n    </tr>\n    <tr>\n      <th>p02</th>\n      <td>10</td>\n      <td>1.128000</td>\n      <td>0.222251</td>\n    </tr>\n    <tr>\n      <th>p03</th>\n      <td>10</td>\n      <td>23.336000</td>\n      <td>0.572969</td>\n    </tr>\n    <tr>\n      <th>p11</th>\n      <td>10</td>\n      <td>0.606000</td>\n      <td>0.112368</td>\n    </tr>\n    <tr>\n      <th>p12</th>\n      <td>10</td>\n      <td>1.575000</td>\n      <td>0.034721</td>\n    </tr>\n    <tr>\n      <th>...</th>\n      <th>...</th>\n      <th>...</th>\n      <td>...</td>\n      <td>...</td>\n      <td>...</td>\n    </tr>\n    <tr>\n      <th rowspan=\"5\" valign=\"top\">ipc2014-opt-symba1</th>\n      <th rowspan=\"5\" valign=\"top\">zenotravel</th>\n      <th>p17</th>\n      <td>10</td>\n      <td>2.707000</td>\n      <td>1.180594</td>\n    </tr>\n    <tr>\n      <th>p18</th>\n      <td>10</td>\n      <td>25.559000</td>\n      <td>25.537705</td>\n    </tr>\n    <tr>\n      <th>p19</th>\n      <td>7</td>\n      <td>202.494286</td>\n      <td>154.242325</td>\n    </tr>\n    <tr>\n      <th>p20</th>\n      <td>5</td>\n      <td>182.956000</td>\n      <td>231.476312</td>\n    </tr>\n    <tr>\n      <th>p21</th>\n      <td>1</td>\n      <td>45.640000</td>\n      <td>NaN</td>\n    </tr>\n  </tbody>\n</table>\n<p>2120 rows × 3 columns</p>\n</div>"
     },
     "metadata": {},
     "execution_count": 88
    }
   ],
   "source": [
    "df3 = df2.groupby([\"algorithm\", \"domain\", \"problemgroup\"])[\"runtime\"].aggregate([\"count\", \"mean\", \"std\"])\n",
    "with open(\"runtime-variance-opt.txt\", \"w\") as f:\n",
    "    f.write(df3.to_string())\n",
    "df3"
   ]
  },
  {
   "cell_type": "code",
   "execution_count": 89,
   "metadata": {},
   "outputs": [
    {
     "output_type": "execute_result",
     "data": {
      "text/plain": [
       "FrozenList(['algorithm', 'domain', 'problemgroup'])"
      ]
     },
     "metadata": {},
     "execution_count": 89
    }
   ],
   "source": [
    "df3.index.names"
   ]
  },
  {
   "cell_type": "code",
   "execution_count": 90,
   "metadata": {},
   "outputs": [
    {
     "output_type": "execute_result",
     "data": {
      "text/plain": [
       "                                     count        mean         std\n",
       "                                      mean        mean        mean\n",
       "algorithm          domain                                         \n",
       "fd1906-bjolp       barman        10.000000   15.400375    0.768045\n",
       "                   blocksworld    7.461538   59.723962   67.678912\n",
       "                   childsnack    10.000000   93.739889    8.603812\n",
       "                   data-network   5.368421   83.389501  115.333792\n",
       "                   depots         7.772727  146.402996  106.416639\n",
       "...                                    ...         ...         ...\n",
       "ipc2014-opt-symba1 tpp            7.619048  219.577468   89.413101\n",
       "                   transport      8.517241  476.052270  157.191327\n",
       "                   visitall       8.520000  223.710347  115.891245\n",
       "                   woodworking    7.043478  240.265101  163.901257\n",
       "                   zenotravel     8.250000   77.708302   88.680776\n",
       "\n",
       "[156 rows x 3 columns]"
      ],
      "text/html": "<div>\n<style scoped>\n    .dataframe tbody tr th:only-of-type {\n        vertical-align: middle;\n    }\n\n    .dataframe tbody tr th {\n        vertical-align: top;\n    }\n\n    .dataframe thead tr th {\n        text-align: left;\n    }\n\n    .dataframe thead tr:last-of-type th {\n        text-align: right;\n    }\n</style>\n<table border=\"1\" class=\"dataframe\">\n  <thead>\n    <tr>\n      <th></th>\n      <th></th>\n      <th>count</th>\n      <th>mean</th>\n      <th>std</th>\n    </tr>\n    <tr>\n      <th></th>\n      <th></th>\n      <th>mean</th>\n      <th>mean</th>\n      <th>mean</th>\n    </tr>\n    <tr>\n      <th>algorithm</th>\n      <th>domain</th>\n      <th></th>\n      <th></th>\n      <th></th>\n    </tr>\n  </thead>\n  <tbody>\n    <tr>\n      <th rowspan=\"5\" valign=\"top\">fd1906-bjolp</th>\n      <th>barman</th>\n      <td>10.000000</td>\n      <td>15.400375</td>\n      <td>0.768045</td>\n    </tr>\n    <tr>\n      <th>blocksworld</th>\n      <td>7.461538</td>\n      <td>59.723962</td>\n      <td>67.678912</td>\n    </tr>\n    <tr>\n      <th>childsnack</th>\n      <td>10.000000</td>\n      <td>93.739889</td>\n      <td>8.603812</td>\n    </tr>\n    <tr>\n      <th>data-network</th>\n      <td>5.368421</td>\n      <td>83.389501</td>\n      <td>115.333792</td>\n    </tr>\n    <tr>\n      <th>depots</th>\n      <td>7.772727</td>\n      <td>146.402996</td>\n      <td>106.416639</td>\n    </tr>\n    <tr>\n      <th>...</th>\n      <th>...</th>\n      <td>...</td>\n      <td>...</td>\n      <td>...</td>\n    </tr>\n    <tr>\n      <th rowspan=\"5\" valign=\"top\">ipc2014-opt-symba1</th>\n      <th>tpp</th>\n      <td>7.619048</td>\n      <td>219.577468</td>\n      <td>89.413101</td>\n    </tr>\n    <tr>\n      <th>transport</th>\n      <td>8.517241</td>\n      <td>476.052270</td>\n      <td>157.191327</td>\n    </tr>\n    <tr>\n      <th>visitall</th>\n      <td>8.520000</td>\n      <td>223.710347</td>\n      <td>115.891245</td>\n    </tr>\n    <tr>\n      <th>woodworking</th>\n      <td>7.043478</td>\n      <td>240.265101</td>\n      <td>163.901257</td>\n    </tr>\n    <tr>\n      <th>zenotravel</th>\n      <td>8.250000</td>\n      <td>77.708302</td>\n      <td>88.680776</td>\n    </tr>\n  </tbody>\n</table>\n<p>156 rows × 3 columns</p>\n</div>"
     },
     "metadata": {},
     "execution_count": 90
    }
   ],
   "source": [
    "df3.groupby(level=[\"algorithm\", \"domain\"]).aggregate([\"mean\"])"
   ]
  },
  {
   "cell_type": "code",
   "execution_count": 91,
   "metadata": {},
   "outputs": [
    {
     "output_type": "execute_result",
     "data": {
      "text/plain": [
       "                          count        mean         std\n",
       "                           mean        mean        mean\n",
       "algorithm                                              \n",
       "fd1906-bjolp           7.463104  135.287203  102.402287\n",
       "fd1906-blind           7.943662   73.250540   40.429727\n",
       "fd1906-fdss1-mas1-60s  7.454849   69.186025   33.622068\n",
       "fd1906-fdss1-mas2-60s  7.957143   62.960801   31.103526\n",
       "fd1906-lmcut           6.977099  263.263021  184.237353\n",
       "ipc2014-opt-symba1     8.419492  177.560130   96.861489"
      ],
      "text/html": "<div>\n<style scoped>\n    .dataframe tbody tr th:only-of-type {\n        vertical-align: middle;\n    }\n\n    .dataframe tbody tr th {\n        vertical-align: top;\n    }\n\n    .dataframe thead tr th {\n        text-align: left;\n    }\n\n    .dataframe thead tr:last-of-type th {\n        text-align: right;\n    }\n</style>\n<table border=\"1\" class=\"dataframe\">\n  <thead>\n    <tr>\n      <th></th>\n      <th>count</th>\n      <th>mean</th>\n      <th>std</th>\n    </tr>\n    <tr>\n      <th></th>\n      <th>mean</th>\n      <th>mean</th>\n      <th>mean</th>\n    </tr>\n    <tr>\n      <th>algorithm</th>\n      <th></th>\n      <th></th>\n      <th></th>\n    </tr>\n  </thead>\n  <tbody>\n    <tr>\n      <th>fd1906-bjolp</th>\n      <td>7.463104</td>\n      <td>135.287203</td>\n      <td>102.402287</td>\n    </tr>\n    <tr>\n      <th>fd1906-blind</th>\n      <td>7.943662</td>\n      <td>73.250540</td>\n      <td>40.429727</td>\n    </tr>\n    <tr>\n      <th>fd1906-fdss1-mas1-60s</th>\n      <td>7.454849</td>\n      <td>69.186025</td>\n      <td>33.622068</td>\n    </tr>\n    <tr>\n      <th>fd1906-fdss1-mas2-60s</th>\n      <td>7.957143</td>\n      <td>62.960801</td>\n      <td>31.103526</td>\n    </tr>\n    <tr>\n      <th>fd1906-lmcut</th>\n      <td>6.977099</td>\n      <td>263.263021</td>\n      <td>184.237353</td>\n    </tr>\n    <tr>\n      <th>ipc2014-opt-symba1</th>\n      <td>8.419492</td>\n      <td>177.560130</td>\n      <td>96.861489</td>\n    </tr>\n  </tbody>\n</table>\n</div>"
     },
     "metadata": {},
     "execution_count": 91
    }
   ],
   "source": [
    "df3.groupby(level=[\"algorithm\"]).aggregate([\"mean\"])"
   ]
  },
  {
   "cell_type": "code",
   "execution_count": 92,
   "metadata": {},
   "outputs": [
    {
     "output_type": "execute_result",
     "data": {
      "text/plain": [
       "                    count        mean         std\n",
       "                     mean        mean        mean\n",
       "domain                                           \n",
       "barman           9.981481   41.413426    5.286293\n",
       "blocksworld      7.567568   97.942662   76.657626\n",
       "childsnack       9.873016   67.628469   10.152669\n",
       "data-network     5.480769  135.205760  157.095113\n",
       "depots           7.592233  142.899311  118.446578\n",
       "driverlog        6.892857  103.830699   93.073898\n",
       "elevators        7.376623  213.428815  141.651292\n",
       "floortile        9.218182   59.529550   22.047633\n",
       "grid             6.765432  122.895462  125.786364\n",
       "gripper         10.000000   33.883680    1.285009\n",
       "hiking          10.000000  106.278610    3.108415\n",
       "logistics        6.840580  184.951961   95.536287\n",
       "miconic-strips   8.447059  108.208537  108.854525\n",
       "nomystery        7.496063  228.731929  136.132919\n",
       "openstacks       9.842105  240.095224   23.343450\n",
       "parking          8.610526  142.863154   75.998942\n",
       "rover            4.413793  110.733220  156.882533\n",
       "satellite        7.268817   83.272171   50.816215\n",
       "scanalyzer      10.000000   89.576612    9.434461\n",
       "snake            8.282051  345.877401  108.848614\n",
       "storage          7.579545  131.657127   87.701796\n",
       "tpp              7.818182  140.429582   75.223552\n",
       "transport        8.981132  302.855571  101.003802\n",
       "visitall         7.815789  129.105911   88.735322\n",
       "woodworking      6.289474  236.861707  160.404696\n",
       "zenotravel       7.687500   98.614835   79.714123"
      ],
      "text/html": "<div>\n<style scoped>\n    .dataframe tbody tr th:only-of-type {\n        vertical-align: middle;\n    }\n\n    .dataframe tbody tr th {\n        vertical-align: top;\n    }\n\n    .dataframe thead tr th {\n        text-align: left;\n    }\n\n    .dataframe thead tr:last-of-type th {\n        text-align: right;\n    }\n</style>\n<table border=\"1\" class=\"dataframe\">\n  <thead>\n    <tr>\n      <th></th>\n      <th>count</th>\n      <th>mean</th>\n      <th>std</th>\n    </tr>\n    <tr>\n      <th></th>\n      <th>mean</th>\n      <th>mean</th>\n      <th>mean</th>\n    </tr>\n    <tr>\n      <th>domain</th>\n      <th></th>\n      <th></th>\n      <th></th>\n    </tr>\n  </thead>\n  <tbody>\n    <tr>\n      <th>barman</th>\n      <td>9.981481</td>\n      <td>41.413426</td>\n      <td>5.286293</td>\n    </tr>\n    <tr>\n      <th>blocksworld</th>\n      <td>7.567568</td>\n      <td>97.942662</td>\n      <td>76.657626</td>\n    </tr>\n    <tr>\n      <th>childsnack</th>\n      <td>9.873016</td>\n      <td>67.628469</td>\n      <td>10.152669</td>\n    </tr>\n    <tr>\n      <th>data-network</th>\n      <td>5.480769</td>\n      <td>135.205760</td>\n      <td>157.095113</td>\n    </tr>\n    <tr>\n      <th>depots</th>\n      <td>7.592233</td>\n      <td>142.899311</td>\n      <td>118.446578</td>\n    </tr>\n    <tr>\n      <th>driverlog</th>\n      <td>6.892857</td>\n      <td>103.830699</td>\n      <td>93.073898</td>\n    </tr>\n    <tr>\n      <th>elevators</th>\n      <td>7.376623</td>\n      <td>213.428815</td>\n      <td>141.651292</td>\n    </tr>\n    <tr>\n      <th>floortile</th>\n      <td>9.218182</td>\n      <td>59.529550</td>\n      <td>22.047633</td>\n    </tr>\n    <tr>\n      <th>grid</th>\n      <td>6.765432</td>\n      <td>122.895462</td>\n      <td>125.786364</td>\n    </tr>\n    <tr>\n      <th>gripper</th>\n      <td>10.000000</td>\n      <td>33.883680</td>\n      <td>1.285009</td>\n    </tr>\n    <tr>\n      <th>hiking</th>\n      <td>10.000000</td>\n      <td>106.278610</td>\n      <td>3.108415</td>\n    </tr>\n    <tr>\n      <th>logistics</th>\n      <td>6.840580</td>\n      <td>184.951961</td>\n      <td>95.536287</td>\n    </tr>\n    <tr>\n      <th>miconic-strips</th>\n      <td>8.447059</td>\n      <td>108.208537</td>\n      <td>108.854525</td>\n    </tr>\n    <tr>\n      <th>nomystery</th>\n      <td>7.496063</td>\n      <td>228.731929</td>\n      <td>136.132919</td>\n    </tr>\n    <tr>\n      <th>openstacks</th>\n      <td>9.842105</td>\n      <td>240.095224</td>\n      <td>23.343450</td>\n    </tr>\n    <tr>\n      <th>parking</th>\n      <td>8.610526</td>\n      <td>142.863154</td>\n      <td>75.998942</td>\n    </tr>\n    <tr>\n      <th>rover</th>\n      <td>4.413793</td>\n      <td>110.733220</td>\n      <td>156.882533</td>\n    </tr>\n    <tr>\n      <th>satellite</th>\n      <td>7.268817</td>\n      <td>83.272171</td>\n      <td>50.816215</td>\n    </tr>\n    <tr>\n      <th>scanalyzer</th>\n      <td>10.000000</td>\n      <td>89.576612</td>\n      <td>9.434461</td>\n    </tr>\n    <tr>\n      <th>snake</th>\n      <td>8.282051</td>\n      <td>345.877401</td>\n      <td>108.848614</td>\n    </tr>\n    <tr>\n      <th>storage</th>\n      <td>7.579545</td>\n      <td>131.657127</td>\n      <td>87.701796</td>\n    </tr>\n    <tr>\n      <th>tpp</th>\n      <td>7.818182</td>\n      <td>140.429582</td>\n      <td>75.223552</td>\n    </tr>\n    <tr>\n      <th>transport</th>\n      <td>8.981132</td>\n      <td>302.855571</td>\n      <td>101.003802</td>\n    </tr>\n    <tr>\n      <th>visitall</th>\n      <td>7.815789</td>\n      <td>129.105911</td>\n      <td>88.735322</td>\n    </tr>\n    <tr>\n      <th>woodworking</th>\n      <td>6.289474</td>\n      <td>236.861707</td>\n      <td>160.404696</td>\n    </tr>\n    <tr>\n      <th>zenotravel</th>\n      <td>7.687500</td>\n      <td>98.614835</td>\n      <td>79.714123</td>\n    </tr>\n  </tbody>\n</table>\n</div>"
     },
     "metadata": {},
     "execution_count": 92
    }
   ],
   "source": [
    "df3.groupby(level=[\"domain\"]).aggregate([\"mean\"])"
   ]
  }
 ],
 "metadata": {
  "kernelspec": {
   "display_name": "Python 3",
   "language": "python",
   "name": "python3"
  },
  "language_info": {
   "codemirror_mode": {
    "name": "ipython",
    "version": 3
   },
   "file_extension": ".py",
   "mimetype": "text/x-python",
   "name": "python",
   "nbconvert_exporter": "python",
   "pygments_lexer": "ipython3",
   "version": "3.6.9-final"
  }
 },
 "nbformat": 4,
 "nbformat_minor": 2
}